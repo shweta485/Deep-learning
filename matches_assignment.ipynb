{
 "cells": [
  {
   "cell_type": "code",
   "execution_count": 1,
   "id": "8d12593d",
   "metadata": {},
   "outputs": [],
   "source": [
    "import pandas as pd\n",
    "import numpy as np\n",
    "import matplotlib.pyplot as plt\n"
   ]
  },
  {
   "cell_type": "code",
   "execution_count": 2,
   "id": "fc85e799",
   "metadata": {},
   "outputs": [],
   "source": [
    "df=pd.read_csv(\"C:\\\\Users\\\\Shraddha\\\\Downloads\\\\matches.csv\")"
   ]
  },
  {
   "cell_type": "code",
   "execution_count": 3,
   "id": "ef89e905",
   "metadata": {},
   "outputs": [
    {
     "data": {
      "text/html": [
       "<div>\n",
       "<style scoped>\n",
       "    .dataframe tbody tr th:only-of-type {\n",
       "        vertical-align: middle;\n",
       "    }\n",
       "\n",
       "    .dataframe tbody tr th {\n",
       "        vertical-align: top;\n",
       "    }\n",
       "\n",
       "    .dataframe thead th {\n",
       "        text-align: right;\n",
       "    }\n",
       "</style>\n",
       "<table border=\"1\" class=\"dataframe\">\n",
       "  <thead>\n",
       "    <tr style=\"text-align: right;\">\n",
       "      <th></th>\n",
       "      <th>id</th>\n",
       "      <th>season</th>\n",
       "      <th>city</th>\n",
       "      <th>date</th>\n",
       "      <th>team1</th>\n",
       "      <th>team2</th>\n",
       "      <th>toss_winner</th>\n",
       "      <th>toss_decision</th>\n",
       "      <th>result</th>\n",
       "      <th>dl_applied</th>\n",
       "      <th>winner</th>\n",
       "      <th>win_by_runs</th>\n",
       "      <th>win_by_wickets</th>\n",
       "      <th>player_of_match</th>\n",
       "      <th>venue</th>\n",
       "      <th>umpire1</th>\n",
       "      <th>umpire2</th>\n",
       "      <th>umpire3</th>\n",
       "    </tr>\n",
       "  </thead>\n",
       "  <tbody>\n",
       "    <tr>\n",
       "      <th>0</th>\n",
       "      <td>60</td>\n",
       "      <td>2008</td>\n",
       "      <td>Bangalore</td>\n",
       "      <td>18-04-2008</td>\n",
       "      <td>Kolkata Knight Riders</td>\n",
       "      <td>Royal Challengers Bangalore</td>\n",
       "      <td>Royal Challengers Bangalore</td>\n",
       "      <td>field</td>\n",
       "      <td>normal</td>\n",
       "      <td>0</td>\n",
       "      <td>Kolkata Knight Riders</td>\n",
       "      <td>140</td>\n",
       "      <td>0</td>\n",
       "      <td>BB McCullum</td>\n",
       "      <td>M Chinnaswamy Stadium</td>\n",
       "      <td>Asad Rauf</td>\n",
       "      <td>RE Koertzen</td>\n",
       "      <td>NaN</td>\n",
       "    </tr>\n",
       "    <tr>\n",
       "      <th>1</th>\n",
       "      <td>61</td>\n",
       "      <td>2008</td>\n",
       "      <td>Chandigarh</td>\n",
       "      <td>19-04-2008</td>\n",
       "      <td>Chennai Super Kings</td>\n",
       "      <td>Kings XI Punjab</td>\n",
       "      <td>Chennai Super Kings</td>\n",
       "      <td>bat</td>\n",
       "      <td>normal</td>\n",
       "      <td>0</td>\n",
       "      <td>Chennai Super Kings</td>\n",
       "      <td>33</td>\n",
       "      <td>0</td>\n",
       "      <td>MEK Hussey</td>\n",
       "      <td>Punjab Cricket Association Stadium, Mohali</td>\n",
       "      <td>MR Benson</td>\n",
       "      <td>SL Shastri</td>\n",
       "      <td>NaN</td>\n",
       "    </tr>\n",
       "    <tr>\n",
       "      <th>2</th>\n",
       "      <td>62</td>\n",
       "      <td>2008</td>\n",
       "      <td>Delhi</td>\n",
       "      <td>19-04-2008</td>\n",
       "      <td>Rajasthan Royals</td>\n",
       "      <td>Delhi Daredevils</td>\n",
       "      <td>Rajasthan Royals</td>\n",
       "      <td>bat</td>\n",
       "      <td>normal</td>\n",
       "      <td>0</td>\n",
       "      <td>Delhi Daredevils</td>\n",
       "      <td>0</td>\n",
       "      <td>9</td>\n",
       "      <td>MF Maharoof</td>\n",
       "      <td>Feroz Shah Kotla</td>\n",
       "      <td>Aleem Dar</td>\n",
       "      <td>GA Pratapkumar</td>\n",
       "      <td>NaN</td>\n",
       "    </tr>\n",
       "    <tr>\n",
       "      <th>3</th>\n",
       "      <td>63</td>\n",
       "      <td>2008</td>\n",
       "      <td>Mumbai</td>\n",
       "      <td>20-04-2008</td>\n",
       "      <td>Mumbai Indians</td>\n",
       "      <td>Royal Challengers Bangalore</td>\n",
       "      <td>Mumbai Indians</td>\n",
       "      <td>bat</td>\n",
       "      <td>normal</td>\n",
       "      <td>0</td>\n",
       "      <td>Royal Challengers Bangalore</td>\n",
       "      <td>0</td>\n",
       "      <td>5</td>\n",
       "      <td>MV Boucher</td>\n",
       "      <td>Wankhede Stadium</td>\n",
       "      <td>SJ Davis</td>\n",
       "      <td>DJ Harper</td>\n",
       "      <td>NaN</td>\n",
       "    </tr>\n",
       "    <tr>\n",
       "      <th>4</th>\n",
       "      <td>64</td>\n",
       "      <td>2008</td>\n",
       "      <td>Kolkata</td>\n",
       "      <td>20-04-2008</td>\n",
       "      <td>Deccan Chargers</td>\n",
       "      <td>Kolkata Knight Riders</td>\n",
       "      <td>Deccan Chargers</td>\n",
       "      <td>bat</td>\n",
       "      <td>normal</td>\n",
       "      <td>0</td>\n",
       "      <td>Kolkata Knight Riders</td>\n",
       "      <td>0</td>\n",
       "      <td>5</td>\n",
       "      <td>DJ Hussey</td>\n",
       "      <td>Eden Gardens</td>\n",
       "      <td>BF Bowden</td>\n",
       "      <td>K Hariharan</td>\n",
       "      <td>NaN</td>\n",
       "    </tr>\n",
       "  </tbody>\n",
       "</table>\n",
       "</div>"
      ],
      "text/plain": [
       "   id  season        city        date                  team1  \\\n",
       "0  60    2008   Bangalore  18-04-2008  Kolkata Knight Riders   \n",
       "1  61    2008  Chandigarh  19-04-2008    Chennai Super Kings   \n",
       "2  62    2008       Delhi  19-04-2008       Rajasthan Royals   \n",
       "3  63    2008      Mumbai  20-04-2008         Mumbai Indians   \n",
       "4  64    2008     Kolkata  20-04-2008        Deccan Chargers   \n",
       "\n",
       "                         team2                  toss_winner toss_decision  \\\n",
       "0  Royal Challengers Bangalore  Royal Challengers Bangalore         field   \n",
       "1              Kings XI Punjab          Chennai Super Kings           bat   \n",
       "2             Delhi Daredevils             Rajasthan Royals           bat   \n",
       "3  Royal Challengers Bangalore               Mumbai Indians           bat   \n",
       "4        Kolkata Knight Riders              Deccan Chargers           bat   \n",
       "\n",
       "   result  dl_applied                       winner  win_by_runs  \\\n",
       "0  normal           0        Kolkata Knight Riders          140   \n",
       "1  normal           0          Chennai Super Kings           33   \n",
       "2  normal           0             Delhi Daredevils            0   \n",
       "3  normal           0  Royal Challengers Bangalore            0   \n",
       "4  normal           0        Kolkata Knight Riders            0   \n",
       "\n",
       "   win_by_wickets player_of_match                                       venue  \\\n",
       "0               0     BB McCullum                       M Chinnaswamy Stadium   \n",
       "1               0      MEK Hussey  Punjab Cricket Association Stadium, Mohali   \n",
       "2               9     MF Maharoof                            Feroz Shah Kotla   \n",
       "3               5      MV Boucher                            Wankhede Stadium   \n",
       "4               5       DJ Hussey                                Eden Gardens   \n",
       "\n",
       "     umpire1         umpire2 umpire3  \n",
       "0  Asad Rauf     RE Koertzen     NaN  \n",
       "1  MR Benson      SL Shastri     NaN  \n",
       "2  Aleem Dar  GA Pratapkumar     NaN  \n",
       "3   SJ Davis       DJ Harper     NaN  \n",
       "4  BF Bowden     K Hariharan     NaN  "
      ]
     },
     "execution_count": 3,
     "metadata": {},
     "output_type": "execute_result"
    }
   ],
   "source": [
    "df.head()"
   ]
  },
  {
   "cell_type": "code",
   "execution_count": 4,
   "id": "63bc2f3d",
   "metadata": {},
   "outputs": [
    {
     "data": {
      "text/plain": [
       "(756, 18)"
      ]
     },
     "execution_count": 4,
     "metadata": {},
     "output_type": "execute_result"
    }
   ],
   "source": [
    "df.shape"
   ]
  },
  {
   "cell_type": "code",
   "execution_count": 5,
   "id": "9bf87a83",
   "metadata": {},
   "outputs": [
    {
     "name": "stdout",
     "output_type": "stream",
     "text": [
      "<class 'pandas.core.frame.DataFrame'>\n",
      "RangeIndex: 756 entries, 0 to 755\n",
      "Data columns (total 18 columns):\n",
      " #   Column           Non-Null Count  Dtype \n",
      "---  ------           --------------  ----- \n",
      " 0   id               756 non-null    int64 \n",
      " 1   season           756 non-null    int64 \n",
      " 2   city             749 non-null    object\n",
      " 3   date             756 non-null    object\n",
      " 4   team1            756 non-null    object\n",
      " 5   team2            756 non-null    object\n",
      " 6   toss_winner      756 non-null    object\n",
      " 7   toss_decision    756 non-null    object\n",
      " 8   result           756 non-null    object\n",
      " 9   dl_applied       756 non-null    int64 \n",
      " 10  winner           752 non-null    object\n",
      " 11  win_by_runs      756 non-null    int64 \n",
      " 12  win_by_wickets   756 non-null    int64 \n",
      " 13  player_of_match  752 non-null    object\n",
      " 14  venue            756 non-null    object\n",
      " 15  umpire1          754 non-null    object\n",
      " 16  umpire2          754 non-null    object\n",
      " 17  umpire3          119 non-null    object\n",
      "dtypes: int64(5), object(13)\n",
      "memory usage: 106.4+ KB\n"
     ]
    }
   ],
   "source": [
    "df.info()"
   ]
  },
  {
   "cell_type": "code",
   "execution_count": 6,
   "id": "2693b951",
   "metadata": {
    "scrolled": true
   },
   "outputs": [
    {
     "data": {
      "text/html": [
       "<div>\n",
       "<style scoped>\n",
       "    .dataframe tbody tr th:only-of-type {\n",
       "        vertical-align: middle;\n",
       "    }\n",
       "\n",
       "    .dataframe tbody tr th {\n",
       "        vertical-align: top;\n",
       "    }\n",
       "\n",
       "    .dataframe thead th {\n",
       "        text-align: right;\n",
       "    }\n",
       "</style>\n",
       "<table border=\"1\" class=\"dataframe\">\n",
       "  <thead>\n",
       "    <tr style=\"text-align: right;\">\n",
       "      <th></th>\n",
       "      <th>id</th>\n",
       "      <th>season</th>\n",
       "      <th>dl_applied</th>\n",
       "      <th>win_by_runs</th>\n",
       "      <th>win_by_wickets</th>\n",
       "    </tr>\n",
       "  </thead>\n",
       "  <tbody>\n",
       "    <tr>\n",
       "      <th>count</th>\n",
       "      <td>756.000000</td>\n",
       "      <td>756.000000</td>\n",
       "      <td>756.000000</td>\n",
       "      <td>756.000000</td>\n",
       "      <td>756.000000</td>\n",
       "    </tr>\n",
       "    <tr>\n",
       "      <th>mean</th>\n",
       "      <td>1792.178571</td>\n",
       "      <td>2013.444444</td>\n",
       "      <td>0.025132</td>\n",
       "      <td>13.283069</td>\n",
       "      <td>3.350529</td>\n",
       "    </tr>\n",
       "    <tr>\n",
       "      <th>std</th>\n",
       "      <td>3464.478148</td>\n",
       "      <td>3.366895</td>\n",
       "      <td>0.156630</td>\n",
       "      <td>23.471144</td>\n",
       "      <td>3.387963</td>\n",
       "    </tr>\n",
       "    <tr>\n",
       "      <th>min</th>\n",
       "      <td>1.000000</td>\n",
       "      <td>2008.000000</td>\n",
       "      <td>0.000000</td>\n",
       "      <td>0.000000</td>\n",
       "      <td>0.000000</td>\n",
       "    </tr>\n",
       "    <tr>\n",
       "      <th>25%</th>\n",
       "      <td>189.750000</td>\n",
       "      <td>2011.000000</td>\n",
       "      <td>0.000000</td>\n",
       "      <td>0.000000</td>\n",
       "      <td>0.000000</td>\n",
       "    </tr>\n",
       "    <tr>\n",
       "      <th>50%</th>\n",
       "      <td>378.500000</td>\n",
       "      <td>2013.000000</td>\n",
       "      <td>0.000000</td>\n",
       "      <td>0.000000</td>\n",
       "      <td>4.000000</td>\n",
       "    </tr>\n",
       "    <tr>\n",
       "      <th>75%</th>\n",
       "      <td>567.250000</td>\n",
       "      <td>2016.000000</td>\n",
       "      <td>0.000000</td>\n",
       "      <td>19.000000</td>\n",
       "      <td>6.000000</td>\n",
       "    </tr>\n",
       "    <tr>\n",
       "      <th>max</th>\n",
       "      <td>11415.000000</td>\n",
       "      <td>2019.000000</td>\n",
       "      <td>1.000000</td>\n",
       "      <td>146.000000</td>\n",
       "      <td>10.000000</td>\n",
       "    </tr>\n",
       "  </tbody>\n",
       "</table>\n",
       "</div>"
      ],
      "text/plain": [
       "                 id       season  dl_applied  win_by_runs  win_by_wickets\n",
       "count    756.000000   756.000000  756.000000   756.000000      756.000000\n",
       "mean    1792.178571  2013.444444    0.025132    13.283069        3.350529\n",
       "std     3464.478148     3.366895    0.156630    23.471144        3.387963\n",
       "min        1.000000  2008.000000    0.000000     0.000000        0.000000\n",
       "25%      189.750000  2011.000000    0.000000     0.000000        0.000000\n",
       "50%      378.500000  2013.000000    0.000000     0.000000        4.000000\n",
       "75%      567.250000  2016.000000    0.000000    19.000000        6.000000\n",
       "max    11415.000000  2019.000000    1.000000   146.000000       10.000000"
      ]
     },
     "execution_count": 6,
     "metadata": {},
     "output_type": "execute_result"
    }
   ],
   "source": [
    "df.describe()"
   ]
  },
  {
   "cell_type": "code",
   "execution_count": 7,
   "id": "68e346ea",
   "metadata": {},
   "outputs": [],
   "source": [
    "# matches per team"
   ]
  },
  {
   "cell_type": "code",
   "execution_count": 8,
   "id": "e7bc1ac4",
   "metadata": {},
   "outputs": [],
   "source": [
    "df0=df.team1"
   ]
  },
  {
   "cell_type": "code",
   "execution_count": 9,
   "id": "f36306dc",
   "metadata": {},
   "outputs": [],
   "source": [
    "df1=df.team2"
   ]
  },
  {
   "cell_type": "code",
   "execution_count": 33,
   "id": "fce9c953",
   "metadata": {},
   "outputs": [
    {
     "data": {
      "text/plain": [
       "0      Kolkata Knight Riders\n",
       "1        Chennai Super Kings\n",
       "2           Rajasthan Royals\n",
       "3             Mumbai Indians\n",
       "4            Deccan Chargers\n",
       "               ...          \n",
       "751           Mumbai Indians\n",
       "752           Mumbai Indians\n",
       "753           Delhi Capitals\n",
       "754      Chennai Super Kings\n",
       "755      Chennai Super Kings\n",
       "Length: 1512, dtype: object"
      ]
     },
     "execution_count": 33,
     "metadata": {},
     "output_type": "execute_result"
    }
   ],
   "source": [
    "Teams= pd.concat([df0,df1])\n",
    "Teams"
   ]
  },
  {
   "cell_type": "code",
   "execution_count": 105,
   "id": "00b94173",
   "metadata": {},
   "outputs": [
    {
     "data": {
      "text/plain": [
       "Index(['Mumbai Indians', 'Royal Challengers Bangalore',\n",
       "       'Kolkata Knight Riders', 'Kings XI Punjab', 'Chennai Super Kings',\n",
       "       'Delhi Daredevils', 'Rajasthan Royals', 'Sunrisers Hyderabad',\n",
       "       'Deccan Chargers', 'Pune Warriors', 'Gujarat Lions',\n",
       "       'Rising Pune Supergiant', 'Delhi Capitals', 'Kochi Tuskers Kerala',\n",
       "       'Rising Pune Supergiants'],\n",
       "      dtype='object')"
      ]
     },
     "execution_count": 105,
     "metadata": {},
     "output_type": "execute_result"
    }
   ],
   "source": [
    "X = Teams.value_counts().index\n",
    "X"
   ]
  },
  {
   "cell_type": "code",
   "execution_count": 13,
   "id": "9ba6e15e",
   "metadata": {},
   "outputs": [],
   "source": [
    "y = Teams.value_counts().values"
   ]
  },
  {
   "cell_type": "code",
   "execution_count": 14,
   "id": "2092430b",
   "metadata": {},
   "outputs": [
    {
     "data": {
      "text/plain": [
       "array([187, 180, 178, 176, 164, 161, 147, 108,  75,  46,  30,  16,  16,\n",
       "        14,  14], dtype=int64)"
      ]
     },
     "execution_count": 14,
     "metadata": {},
     "output_type": "execute_result"
    }
   ],
   "source": [
    "y"
   ]
  },
  {
   "cell_type": "code",
   "execution_count": 18,
   "id": "e58621ab",
   "metadata": {
    "scrolled": true
   },
   "outputs": [
    {
     "data": {
      "image/png": "[encoded data removed]",
      "text/plain": [
       "<Figure size 432x288 with 1 Axes>"
      ]
     },
     "metadata": {
      "needs_background": "light"
     },
     "output_type": "display_data"
    }
   ],
   "source": [
    "plt.barh(X,y,height = 0.6 ,align='center',color=\"red\",ec=\"black\")\n",
    "plt.xlabel(\"No of Match\")\n",
    "plt.ylabel(\"Teams\")\n",
    "plt.title(\"Matches per Teams\")\n",
    "plt.savefig(\"Matches per Teams.jpg\")\n",
    "plt.show()"
   ]
  },
  {
   "cell_type": "code",
   "execution_count": 52,
   "id": "c67afd1b",
   "metadata": {},
   "outputs": [],
   "source": [
    "# number of matches per ground"
   ]
  },
  {
   "cell_type": "code",
   "execution_count": 17,
   "id": "543eccd0",
   "metadata": {},
   "outputs": [
    {
     "data": {
      "image/png": "[encoded data removed]",
      "text/plain": [
       "<Figure size 432x288 with 1 Axes>"
      ]
     },
     "metadata": {
      "needs_background": "light"
     },
     "output_type": "display_data"
    }
   ],
   "source": [
    "Ground = df.venue\n",
    "a = Ground.value_counts().index\n",
    "b = Ground.value_counts().values\n",
    "plt.barh(a,b,height = 0.6 ,align='center',color=\"green\",ec=\"black\")\n",
    "plt.xlabel(\"No of Ground\")\n",
    "plt.ylabel(\"Ground\")\n",
    "plt.title(\"Matches per Ground\")\n",
    "plt.savefig(\"Matches per Ground.jpg\")\n",
    "plt.show()"
   ]
  },
  {
   "cell_type": "code",
   "execution_count": 19,
   "id": "2c88e853",
   "metadata": {},
   "outputs": [],
   "source": [
    "# number of matches per year"
   ]
  },
  {
   "cell_type": "code",
   "execution_count": 48,
   "id": "f8401b08",
   "metadata": {},
   "outputs": [],
   "source": [
    "season=df.season \n",
    "year = season.value_counts().index\n",
    "Matches = season.value_counts().values\n"
   ]
  },
  {
   "cell_type": "code",
   "execution_count": 49,
   "id": "09d81f7f",
   "metadata": {},
   "outputs": [
    {
     "data": {
      "image/png": "[encoded data removed]",
      "text/plain": [
       "<Figure size 432x288 with 1 Axes>"
      ]
     },
     "metadata": {
      "needs_background": "light"
     },
     "output_type": "display_data"
    }
   ],
   "source": [
    "plt.barh(year,Matches,height = 0.6 ,align='center',color=\"pink\",ec=\"black\")\n",
    "plt.xlabel(\"Matches\")\n",
    "plt.ylabel(\"No of year\")\n",
    "plt.title(\"Matches per year\")\n",
    "plt.savefig(\"Matches per year.jpg\")\n",
    "plt.show()"
   ]
  },
  {
   "cell_type": "code",
   "execution_count": null,
   "id": "ee24363a",
   "metadata": {},
   "outputs": [],
   "source": [
    "# number of wins per team"
   ]
  },
  {
   "cell_type": "code",
   "execution_count": 63,
   "id": "5c577e50",
   "metadata": {},
   "outputs": [
    {
     "data": {
      "text/plain": [
       "0            Kolkata Knight Riders\n",
       "1              Chennai Super Kings\n",
       "2                 Delhi Daredevils\n",
       "3      Royal Challengers Bangalore\n",
       "4            Kolkata Knight Riders\n",
       "                  ...             \n",
       "751                 Mumbai Indians\n",
       "752                 Mumbai Indians\n",
       "753                 Delhi Capitals\n",
       "754            Chennai Super Kings\n",
       "755                 Mumbai Indians\n",
       "Name: winner, Length: 756, dtype: object"
      ]
     },
     "execution_count": 63,
     "metadata": {},
     "output_type": "execute_result"
    }
   ],
   "source": [
    "win=df.winner\n",
    "win   "
   ]
  },
  {
   "cell_type": "code",
   "execution_count": 67,
   "id": "2f4afd66",
   "metadata": {},
   "outputs": [],
   "source": [
    "win_team = win.value_counts().index\n",
    "no_of_win = win.value_counts().values"
   ]
  },
  {
   "cell_type": "code",
   "execution_count": 68,
   "id": "f779eaa3",
   "metadata": {},
   "outputs": [
    {
     "data": {
      "text/plain": [
       "Index(['Mumbai Indians', 'Chennai Super Kings', 'Kolkata Knight Riders',\n",
       "       'Royal Challengers Bangalore', 'Kings XI Punjab', 'Rajasthan Royals',\n",
       "       'Delhi Daredevils', 'Sunrisers Hyderabad', 'Deccan Chargers',\n",
       "       'Gujarat Lions', 'Pune Warriors', 'Rising Pune Supergiant',\n",
       "       'Delhi Capitals', 'Kochi Tuskers Kerala', 'Rising Pune Supergiants'],\n",
       "      dtype='object')"
      ]
     },
     "execution_count": 68,
     "metadata": {},
     "output_type": "execute_result"
    }
   ],
   "source": [
    "win_team"
   ]
  },
  {
   "cell_type": "code",
   "execution_count": 69,
   "id": "143c3789",
   "metadata": {},
   "outputs": [
    {
     "data": {
      "text/plain": [
       "array([109, 100,  92,  84,  82,  75,  67,  58,  29,  13,  12,  10,  10,\n",
       "         6,   5], dtype=int64)"
      ]
     },
     "execution_count": 69,
     "metadata": {},
     "output_type": "execute_result"
    }
   ],
   "source": [
    "no_of_win"
   ]
  },
  {
   "cell_type": "code",
   "execution_count": 73,
   "id": "ba2253c1",
   "metadata": {},
   "outputs": [
    {
     "data": {
      "image/png": "[encoded data removed]",
      "text/plain": [
       "<Figure size 432x288 with 1 Axes>"
      ]
     },
     "metadata": {
      "needs_background": "light"
     },
     "output_type": "display_data"
    }
   ],
   "source": [
    "plt.barh(win_team,no_of_win,height = 0.6 ,align='center',color=\"yellow\",ec=\"black\")\n",
    "plt.xlabel(\"no_of_win\")\n",
    "plt.ylabel(\"win_team\")\n",
    "plt.title(\"no of wins per year\")\n",
    "plt.savefig(\"no of wins per year.jpg\")\n",
    "plt.show()"
   ]
  },
  {
   "cell_type": "code",
   "execution_count": null,
   "id": "53fe6f2e",
   "metadata": {},
   "outputs": [],
   "source": [
    "# number player of match per player -  bar plot\n"
   ]
  },
  {
   "cell_type": "code",
   "execution_count": 75,
   "id": "27e07df5",
   "metadata": {
    "scrolled": true
   },
   "outputs": [
    {
     "data": {
      "text/html": [
       "<div>\n",
       "<style scoped>\n",
       "    .dataframe tbody tr th:only-of-type {\n",
       "        vertical-align: middle;\n",
       "    }\n",
       "\n",
       "    .dataframe tbody tr th {\n",
       "        vertical-align: top;\n",
       "    }\n",
       "\n",
       "    .dataframe thead th {\n",
       "        text-align: right;\n",
       "    }\n",
       "</style>\n",
       "<table border=\"1\" class=\"dataframe\">\n",
       "  <thead>\n",
       "    <tr style=\"text-align: right;\">\n",
       "      <th></th>\n",
       "      <th>id</th>\n",
       "      <th>season</th>\n",
       "      <th>city</th>\n",
       "      <th>date</th>\n",
       "      <th>team1</th>\n",
       "      <th>team2</th>\n",
       "      <th>toss_winner</th>\n",
       "      <th>toss_decision</th>\n",
       "      <th>result</th>\n",
       "      <th>dl_applied</th>\n",
       "      <th>winner</th>\n",
       "      <th>win_by_runs</th>\n",
       "      <th>win_by_wickets</th>\n",
       "      <th>player_of_match</th>\n",
       "      <th>venue</th>\n",
       "      <th>umpire1</th>\n",
       "      <th>umpire2</th>\n",
       "      <th>umpire3</th>\n",
       "    </tr>\n",
       "  </thead>\n",
       "  <tbody>\n",
       "    <tr>\n",
       "      <th>0</th>\n",
       "      <td>60</td>\n",
       "      <td>2008</td>\n",
       "      <td>Bangalore</td>\n",
       "      <td>18-04-2008</td>\n",
       "      <td>Kolkata Knight Riders</td>\n",
       "      <td>Royal Challengers Bangalore</td>\n",
       "      <td>Royal Challengers Bangalore</td>\n",
       "      <td>field</td>\n",
       "      <td>normal</td>\n",
       "      <td>0</td>\n",
       "      <td>Kolkata Knight Riders</td>\n",
       "      <td>140</td>\n",
       "      <td>0</td>\n",
       "      <td>BB McCullum</td>\n",
       "      <td>M Chinnaswamy Stadium</td>\n",
       "      <td>Asad Rauf</td>\n",
       "      <td>RE Koertzen</td>\n",
       "      <td>NaN</td>\n",
       "    </tr>\n",
       "    <tr>\n",
       "      <th>1</th>\n",
       "      <td>61</td>\n",
       "      <td>2008</td>\n",
       "      <td>Chandigarh</td>\n",
       "      <td>19-04-2008</td>\n",
       "      <td>Chennai Super Kings</td>\n",
       "      <td>Kings XI Punjab</td>\n",
       "      <td>Chennai Super Kings</td>\n",
       "      <td>bat</td>\n",
       "      <td>normal</td>\n",
       "      <td>0</td>\n",
       "      <td>Chennai Super Kings</td>\n",
       "      <td>33</td>\n",
       "      <td>0</td>\n",
       "      <td>MEK Hussey</td>\n",
       "      <td>Punjab Cricket Association Stadium, Mohali</td>\n",
       "      <td>MR Benson</td>\n",
       "      <td>SL Shastri</td>\n",
       "      <td>NaN</td>\n",
       "    </tr>\n",
       "  </tbody>\n",
       "</table>\n",
       "</div>"
      ],
      "text/plain": [
       "   id  season        city        date                  team1  \\\n",
       "0  60    2008   Bangalore  18-04-2008  Kolkata Knight Riders   \n",
       "1  61    2008  Chandigarh  19-04-2008    Chennai Super Kings   \n",
       "\n",
       "                         team2                  toss_winner toss_decision  \\\n",
       "0  Royal Challengers Bangalore  Royal Challengers Bangalore         field   \n",
       "1              Kings XI Punjab          Chennai Super Kings           bat   \n",
       "\n",
       "   result  dl_applied                 winner  win_by_runs  win_by_wickets  \\\n",
       "0  normal           0  Kolkata Knight Riders          140               0   \n",
       "1  normal           0    Chennai Super Kings           33               0   \n",
       "\n",
       "  player_of_match                                       venue    umpire1  \\\n",
       "0     BB McCullum                       M Chinnaswamy Stadium  Asad Rauf   \n",
       "1      MEK Hussey  Punjab Cricket Association Stadium, Mohali  MR Benson   \n",
       "\n",
       "       umpire2 umpire3  \n",
       "0  RE Koertzen     NaN  \n",
       "1   SL Shastri     NaN  "
      ]
     },
     "execution_count": 75,
     "metadata": {},
     "output_type": "execute_result"
    }
   ],
   "source": [
    "df.head(2)"
   ]
  },
  {
   "cell_type": "code",
   "execution_count": 107,
   "id": "31190755",
   "metadata": {},
   "outputs": [
    {
     "data": {
      "text/plain": [
       "array(['BB McCullum', 'MEK Hussey', 'MF Maharoof', 'MV Boucher',\n",
       "       'DJ Hussey', 'SR Watson', 'V Sehwag', 'ML Hayden', 'YK Pathan',\n",
       "       'KC Sangakkara', 'JDP Oram', 'AC Gilchrist', 'SM Katich',\n",
       "       'MS Dhoni', 'ST Jayasuriya', 'GD McGrath', 'SE Marsh',\n",
       "       'SA Asnodkar', 'R Vinay Kumar', 'IK Pathan', 'SM Pollock',\n",
       "       'Sohail Tanvir', 'S Sreesanth', 'A Nehra', 'SC Ganguly',\n",
       "       'CRD Fernando', 'L Balaji', 'Shoaib Akhtar', 'A Mishra',\n",
       "       'DPMD Jayawardene', 'GC Smith', 'DJ Bravo', 'M Ntini',\n",
       "       'SP Goswami', 'A Kumble', 'KD Karthik', 'JA Morkel', 'P Kumar',\n",
       "       'Umar Gul', 'SK Raina', 'SR Tendulkar', 'R Dravid', 'DL Vettori',\n",
       "       'RP Singh', 'M Muralitharan', 'CH Gayle', 'AB de Villiers',\n",
       "       'RS Bopara', 'PP Ojha', 'TM Dilshan', 'HH Gibbs', 'DP Nannes',\n",
       "       'JP Duminy', 'Yuvraj Singh', 'SB Jakati', 'JH Kallis', 'G Gambhir',\n",
       "       'RG Sharma', 'A Singh', 'S Badrinath', 'DR Smith', 'LRPL Taylor',\n",
       "       'Harbhajan Singh', 'R Bhatia', 'SK Warne', 'B Lee', 'BJ Hodge',\n",
       "       'LR Shukla', 'MK Pandey', 'AD Mathews', 'MK Tiwary', 'WPUJC Vaas',\n",
       "       'A Symonds', 'AA Jhunjhunwala', 'J Theron', 'RV Uthappa',\n",
       "       'AC Voges', 'KM Jadhav', 'NV Ojha', 'DA Warner', 'SL Malinga',\n",
       "       'M Vijay', 'KP Pietersen', 'AT Rayudu', 'PD Collingwood',\n",
       "       'MJ Lumb', 'TL Suman', 'RJ Harris', 'PP Chawla', 'Harmeet Singh',\n",
       "       'KA Pollard', 'R Ashwin', 'R McLaren', 'JD Unadkat', 'M Kartik',\n",
       "       'DE Bollinger', 'S Anirudha', 'SK Trivedi', 'SB Wagh',\n",
       "       'PC Valthaty', 'MD Mishra', 'DW Steyn', 'S Sohal', 'MM Patel',\n",
       "       'V Kohli', 'I Sharma', 'J Botha', 'Iqbal Abdulla',\n",
       "       'P Parameswaran', 'R Sharma', 'MR Marsh', 'BA Bhatt', 'S Aravind',\n",
       "       'WP Saha', 'S Dhawan', nan, 'JEC Franklin', 'RE Levi', 'SPD Smith',\n",
       "       'AM Rahane', 'RA Jadeja', 'MN Samuels', 'M Morkel', 'F du Plessis',\n",
       "       'AD Mascarenhas', 'Shakib Al Hasan', 'JD Ryder', 'SP Narine',\n",
       "       'S Nadeem', 'KMDN Kulasekara', 'CL White', 'Mandeep Singh',\n",
       "       'P Negi', 'Azhar Mahmood', 'BW Hilfenhaus', 'A Chandila',\n",
       "       'UT Yadav', 'MS Bisla', 'M Vohra', 'GH Vihari', 'AJ Finch',\n",
       "       'JP Faulkner', 'MS Gony', 'DA Miller', 'SV Samson', 'DJG Sammy',\n",
       "       'MG Johnson', 'KK Cooper', 'PA Patel', 'AP Tare', 'LJ Wright',\n",
       "       'YS Chahal', 'GJ Maxwell', 'CA Lynn', 'MM Sharma', 'PV Tambe',\n",
       "       'Sandeep Sharma', 'B Kumar', 'CJ Anderson', 'KK Nair', 'AR Patel',\n",
       "       'LMP Simmons', 'DJ Hooda', 'GJ Bailey', 'AD Russell', 'MA Agarwal',\n",
       "       'SS Iyer', 'MA Starc', 'VR Aaron', 'TA Boult', 'NM Coulter-Nile',\n",
       "       'EJG Morgan', 'HH Pandya', 'MC Henriques', 'Z Khan',\n",
       "       'MJ McClenaghan', 'Q de Kock', 'Mustafizur Rahman', 'SA Yadav',\n",
       "       'AB Dinda', 'CH Morris', 'CR Brathwaite', 'RR Pant', 'MP Stoinis',\n",
       "       'A Zampa', 'KH Pandya', 'HM Amla', 'BCJ Cutting', 'Rashid Khan',\n",
       "       'N Rana', 'JJ Bumrah', 'AJ Tye', 'BA Stokes', 'KS Williamson',\n",
       "       'JC Buttler', 'LH Ferguson', 'Mohammed Shami', 'RA Tripathi',\n",
       "       'Mohammed Siraj', 'HV Patel', 'Washington Sundar', 'KV Sharma',\n",
       "       'KL Rahul', 'SW Billings', 'JJ Roy', 'B Stanlake', 'J Archer',\n",
       "       'AS Rajpoot', 'TG Southee', 'AS Yadav', 'M Ur Rahman',\n",
       "       'Ishan Kishan', 'Kuldeep Yadav', 'S Gopal', 'L Ngidi', 'P Shaw',\n",
       "       'J Bairstow', 'S Curran', 'A Joseph', 'K Rabada', 'H Gurney',\n",
       "       'DL Chahar', 'Imran Tahir', 'K Paul', 'K Ahmed', 'S Gill',\n",
       "       'S Hetmyer'], dtype=object)"
      ]
     },
     "execution_count": 107,
     "metadata": {},
     "output_type": "execute_result"
    }
   ],
   "source": [
    "df.player_of_match.unique()"
   ]
  },
  {
   "cell_type": "code",
   "execution_count": 76,
   "id": "e4c3c46a",
   "metadata": {},
   "outputs": [],
   "source": [
    "player_of_match = df.player_of_match"
   ]
  },
  {
   "cell_type": "code",
   "execution_count": 77,
   "id": "37d2ef56",
   "metadata": {},
   "outputs": [
    {
     "data": {
      "text/plain": [
       "0       BB McCullum\n",
       "1        MEK Hussey\n",
       "2       MF Maharoof\n",
       "3        MV Boucher\n",
       "4         DJ Hussey\n",
       "           ...     \n",
       "751       HH Pandya\n",
       "752        AS Yadav\n",
       "753         RR Pant\n",
       "754    F du Plessis\n",
       "755       JJ Bumrah\n",
       "Name: player_of_match, Length: 756, dtype: object"
      ]
     },
     "execution_count": 77,
     "metadata": {},
     "output_type": "execute_result"
    }
   ],
   "source": [
    "player_of_match"
   ]
  },
  {
   "cell_type": "code",
   "execution_count": 79,
   "id": "9d971edf",
   "metadata": {},
   "outputs": [],
   "source": [
    "Name_of_player = player_of_match.value_counts().index\n",
    "No_of_player = player_of_match.value_counts().values\n"
   ]
  },
  {
   "cell_type": "code",
   "execution_count": 88,
   "id": "af0773cf",
   "metadata": {},
   "outputs": [
    {
     "data": {
      "text/plain": [
       "Index(['CH Gayle', 'AB de Villiers', 'DA Warner', 'RG Sharma', 'MS Dhoni',\n",
       "       'YK Pathan', 'SR Watson', 'SK Raina', 'G Gambhir', 'V Kohli',\n",
       "       ...\n",
       "       'RS Bopara', 'CL White', 'KMDN Kulasekara', 'S Nadeem', 'PP Ojha',\n",
       "       'JD Ryder', 'AD Mascarenhas', 'TM Dilshan', 'MN Samuels', 'S Hetmyer'],\n",
       "      dtype='object', length=226)"
      ]
     },
     "execution_count": 88,
     "metadata": {},
     "output_type": "execute_result"
    }
   ],
   "source": [
    "Name_of_player"
   ]
  },
  {
   "cell_type": "code",
   "execution_count": 96,
   "id": "9b0f9a33",
   "metadata": {},
   "outputs": [
    {
     "data": {
      "text/plain": [
       "array([21, 20, 17, 17, 17, 16, 15, 14, 13, 12, 12, 12, 11, 11, 11, 11, 10,\n",
       "       10,  9,  9,  9,  8,  8,  8,  8,  7,  7,  7,  6,  6,  6,  6,  6,  6,\n",
       "        6,  5,  5,  5,  5,  5,  5,  5,  5,  5,  5,  5,  5,  5,  5,  5,  5,\n",
       "        5,  4,  4,  4,  4,  4,  4,  4,  4,  4,  4,  4,  4,  4,  3,  3,  3,\n",
       "        3,  3,  3,  3,  3,  3,  3,  3,  3,  3,  3,  3,  3,  3,  3,  2,  2,\n",
       "        2,  2,  2,  2,  2,  2,  2,  2,  2,  2,  2,  2,  2,  2,  2,  2,  2,\n",
       "        2,  2,  2,  2,  2,  2,  2,  2,  2,  2,  2,  2,  2,  2,  2,  2,  2,\n",
       "        2,  2,  2,  2,  2,  2,  2,  2,  2,  2,  1,  1,  1,  1,  1,  1,  1,\n",
       "        1,  1,  1,  1,  1,  1,  1,  1,  1,  1,  1,  1,  1,  1,  1,  1,  1,\n",
       "        1,  1,  1,  1,  1,  1,  1,  1,  1,  1,  1,  1,  1,  1,  1,  1,  1,\n",
       "        1,  1,  1,  1,  1,  1,  1,  1,  1,  1,  1,  1,  1,  1,  1,  1,  1,\n",
       "        1,  1,  1,  1,  1,  1,  1,  1,  1,  1,  1,  1,  1,  1,  1,  1,  1,\n",
       "        1,  1,  1,  1,  1,  1,  1,  1,  1,  1,  1,  1,  1,  1,  1,  1,  1,\n",
       "        1,  1,  1,  1,  1], dtype=int64)"
      ]
     },
     "execution_count": 96,
     "metadata": {},
     "output_type": "execute_result"
    }
   ],
   "source": [
    "No_of_player"
   ]
  },
  {
   "cell_type": "code",
   "execution_count": 131,
   "id": "39da6327",
   "metadata": {},
   "outputs": [
    {
     "data": {
      "image/png": "[encoded data removed]",
      "text/plain": [
       "<Figure size 432x288 with 1 Axes>"
      ]
     },
     "metadata": {
      "needs_background": "light"
     },
     "output_type": "display_data"
    }
   ],
   "source": [
    "plt.barh(Name_of_player,No_of_player,height =0.9,color=\"red\",ec=\"black\")\n",
    "plt.xlabel(\"No_of_player\")\n",
    "plt.ylabel(\"Name_of_player\")\n",
    "plt.title(\"player_of_match\")\n",
    "plt.savefig(\"player_of_match.jpg\")\n",
    "plt.show()\n"
   ]
  },
  {
   "cell_type": "code",
   "execution_count": 98,
   "id": "4e3352fb",
   "metadata": {},
   "outputs": [],
   "source": [
    "# number of matches per umpire"
   ]
  },
  {
   "cell_type": "code",
   "execution_count": 123,
   "id": "616e347e",
   "metadata": {},
   "outputs": [],
   "source": [
    "df0=df.umpire1\n",
    "df1=df.umpire2\n",
    "df2=df.umpire3"
   ]
  },
  {
   "cell_type": "code",
   "execution_count": 124,
   "id": "5d6678d3",
   "metadata": {},
   "outputs": [
    {
     "data": {
      "text/plain": [
       "0                    Asad Rauf\n",
       "1                    MR Benson\n",
       "2                    Aleem Dar\n",
       "3                     SJ Davis\n",
       "4                    BF Bowden\n",
       "                ...           \n",
       "751                     S Ravi\n",
       "752                  Ian Gould\n",
       "753                        NaN\n",
       "754    Chettithody Shamshuddin\n",
       "755                Nigel Llong\n",
       "Length: 2268, dtype: object"
      ]
     },
     "execution_count": 124,
     "metadata": {},
     "output_type": "execute_result"
    }
   ],
   "source": [
    "umpire = pd.concat([df0,df1,df2])\n",
    "umpire"
   ]
  },
  {
   "cell_type": "code",
   "execution_count": 125,
   "id": "67aca81a",
   "metadata": {},
   "outputs": [],
   "source": [
    "Name_of_umpire =umpire.value_counts().index\n",
    "No_of_umpire =umpire.value_counts().values    "
   ]
  },
  {
   "cell_type": "code",
   "execution_count": 126,
   "id": "54b8cb83",
   "metadata": {},
   "outputs": [
    {
     "data": {
      "text/plain": [
       "Index(['S Ravi', 'HDPK Dharmasena', 'C Shamshuddin', 'AK Chaudhary',\n",
       "       'SJA Taufel', 'M Erasmus', 'Nitin Menon', 'Asad Rauf', 'BR Doctrove',\n",
       "       'RE Koertzen', 'CK Nandan', 'VA Kulkarni', 'Aleem Dar', 'RJ Tucker',\n",
       "       'BF Bowden', 'BNJ Oxenford', 'SK Tarapore', 'RB Tiffin', 'S Asnani',\n",
       "       'Anil Chaudhary', 'DJ Harper', 'O Nandan', 'AM Saheba', 'NJ Llong',\n",
       "       'CB Gaffaney', 'Bruce Oxenford', 'K Hariharan', 'RK Illingworth',\n",
       "       'Anil Dandekar', 'Yeshwant Barde', 'JD Cloete', 'SS Hazare',\n",
       "       'BG Jerling', 'Vineet Kulkarni', 'Marais Erasmus', 'Nigel Llong',\n",
       "       'A Nand Kishore', 'KN Ananthapadmanabhan', 'Chris Gaffaney',\n",
       "       'K Srinath', 'S Das', 'Rod Tucker', 'SL Shastri', 'IL Howell',\n",
       "       'AY Dandekar', 'MR Benson', 'PR Reiffel', 'Kumar Dharmasena',\n",
       "       'VK Sharma', 'Ian Gould', 'Virender Kumar Sharma', 'A.D Deshmukh',\n",
       "       'A Nanda Kishore', 'PG Pathak', 'K Ananthapadmanabhan', 'GAV Baxter',\n",
       "       'SJ Davis', 'RM Deshpande', 'Ulhas Gandhe', 'AL Hill', 'AV Jayaprakash',\n",
       "       'I Shivram', 'SD Fry', 'GA Pratapkumar', 'Nanda Kishore', 'A Deshmukh',\n",
       "       'TH Wijewardene', 'YC Barde', 'KN Anantapadmanabhan', 'K Bharatan',\n",
       "       'K Srinivasan', 'SD Ranade', 'Sundaram Ravi', 'Subroto Das',\n",
       "       'Nand Kishore', 'Chettithody Shamshuddin'],\n",
       "      dtype='object')"
      ]
     },
     "execution_count": 126,
     "metadata": {},
     "output_type": "execute_result"
    }
   ],
   "source": [
    "Name_of_umpire"
   ]
  },
  {
   "cell_type": "code",
   "execution_count": 127,
   "id": "b42a1a99",
   "metadata": {},
   "outputs": [
    {
     "data": {
      "text/plain": [
       "array([114,  87,  83,  58,  55,  54,  52,  51,  42,  41,  41,  39,  38,\n",
       "        38,  37,  32,  31,  30,  30,  30,  27,  26,  26,  25,  24,  22,\n",
       "        21,  19,  19,  19,  17,  17,  17,  16,  16,  16,  16,  15,  15,\n",
       "        15,  15,  14,  14,  14,  13,  12,  11,   9,   9,   9,   8,   8,\n",
       "         8,   8,   8,   7,   7,   7,   7,   6,   6,   6,   6,   6,   6,\n",
       "         6,   5,   4,   4,   3,   3,   2,   2,   1,   1,   1], dtype=int64)"
      ]
     },
     "execution_count": 127,
     "metadata": {},
     "output_type": "execute_result"
    }
   ],
   "source": [
    "No_of_umpire"
   ]
  },
  {
   "cell_type": "code",
   "execution_count": 128,
   "id": "8b7b5902",
   "metadata": {},
   "outputs": [
    {
     "data": {
      "image/png": "[encoded data removed]",
      "text/plain": [
       "<Figure size 432x288 with 1 Axes>"
      ]
     },
     "metadata": {
      "needs_background": "light"
     },
     "output_type": "display_data"
    }
   ],
   "source": [
    "plt.barh(Name_of_umpire,No_of_umpire,height =0.9 ,color=\"green\",ec=\"black\")\n",
    "plt.xlabel(\"No_of_umpire\")\n",
    "plt.ylabel(\"Name_of_umpire\")\n",
    "plt.title(\"Matches per umpire\")\n",
    "plt.savefig(\"Matches per umpire.jpg\")\n",
    "plt.show()"
   ]
  },
  {
   "cell_type": "code",
   "execution_count": null,
   "id": "11110c27",
   "metadata": {},
   "outputs": [],
   "source": [
    "#tosses won per team"
   ]
  },
  {
   "cell_type": "code",
   "execution_count": 135,
   "id": "585dbfaa",
   "metadata": {},
   "outputs": [
    {
     "data": {
      "text/plain": [
       "0      Royal Challengers Bangalore\n",
       "1              Chennai Super Kings\n",
       "2                 Rajasthan Royals\n",
       "3                   Mumbai Indians\n",
       "4                  Deccan Chargers\n",
       "                  ...             \n",
       "751                 Mumbai Indians\n",
       "752            Chennai Super Kings\n",
       "753                 Delhi Capitals\n",
       "754            Chennai Super Kings\n",
       "755                 Mumbai Indians\n",
       "Name: toss_winner, Length: 756, dtype: object"
      ]
     },
     "execution_count": 135,
     "metadata": {},
     "output_type": "execute_result"
    }
   ],
   "source": [
    "toss_win = df.toss_winner\n",
    "toss_win"
   ]
  },
  {
   "cell_type": "code",
   "execution_count": 136,
   "id": "238455ed",
   "metadata": {},
   "outputs": [],
   "source": [
    "Name_of_toss_win= toss_win.value_counts().index\n",
    "no_of_toss_win = toss_win.value_counts().values"
   ]
  },
  {
   "cell_type": "code",
   "execution_count": 137,
   "id": "de960871",
   "metadata": {},
   "outputs": [
    {
     "data": {
      "text/plain": [
       "Index(['Mumbai Indians', 'Kolkata Knight Riders', 'Chennai Super Kings',\n",
       "       'Royal Challengers Bangalore', 'Kings XI Punjab', 'Rajasthan Royals',\n",
       "       'Delhi Daredevils', 'Sunrisers Hyderabad', 'Deccan Chargers',\n",
       "       'Pune Warriors', 'Gujarat Lions', 'Delhi Capitals',\n",
       "       'Kochi Tuskers Kerala', 'Rising Pune Supergiants',\n",
       "       'Rising Pune Supergiant'],\n",
       "      dtype='object')"
      ]
     },
     "execution_count": 137,
     "metadata": {},
     "output_type": "execute_result"
    }
   ],
   "source": [
    "Name_of_toss_win"
   ]
  },
  {
   "cell_type": "code",
   "execution_count": 138,
   "id": "d2cab10a",
   "metadata": {},
   "outputs": [
    {
     "data": {
      "text/plain": [
       "array([98, 92, 89, 81, 81, 80, 80, 46, 43, 20, 15, 10,  8,  7,  6],\n",
       "      dtype=int64)"
      ]
     },
     "execution_count": 138,
     "metadata": {},
     "output_type": "execute_result"
    }
   ],
   "source": [
    "no_of_toss_win"
   ]
  },
  {
   "cell_type": "code",
   "execution_count": 140,
   "id": "8338444a",
   "metadata": {},
   "outputs": [
    {
     "data": {
      "image/png": "[encoded data removed]",
      "text/plain": [
       "<Figure size 432x288 with 1 Axes>"
      ]
     },
     "metadata": {
      "needs_background": "light"
     },
     "output_type": "display_data"
    }
   ],
   "source": [
    "plt.barh(Name_of_toss_win,no_of_toss_win,height = 0.6 ,align='center',color=\"yellow\",ec=\"black\")\n",
    "plt.xlabel(\"no_of_toss_win\")\n",
    "plt.ylabel(\"Name_of_toss_win\")\n",
    "plt.title(\"tosses won per team\")\n",
    "plt.savefig(\"tosses won per team.jpg\")\n",
    "plt.show()"
   ]
  },
  {
   "cell_type": "code",
   "execution_count": null,
   "id": "7821968e",
   "metadata": {},
   "outputs": [],
   "source": []
  },
  {
   "cell_type": "code",
   "execution_count": null,
   "id": "73ed7981",
   "metadata": {},
   "outputs": [],
   "source": []
  },
  {
   "cell_type": "code",
   "execution_count": null,
   "id": "c1ddbaf6",
   "metadata": {},
   "outputs": [],
   "source": []
  },
  {
   "cell_type": "code",
   "execution_count": null,
   "id": "9e685154",
   "metadata": {},
   "outputs": [],
   "source": []
  }
 ],
 "metadata": {
  "kernelspec": {
   "display_name": "Python 3 (ipykernel)",
   "language": "python",
   "name": "python3"
  },
  "language_info": {
   "codemirror_mode": {
    "name": "ipython",
    "version": 3
   },
   "file_extension": ".py",
   "mimetype": "text/x-python",
   "name": "python",
   "nbconvert_exporter": "python",
   "pygments_lexer": "ipython3",
   "version": "3.9.12"
  }
 },
 "nbformat": 4,
 "nbformat_minor": 5
}
